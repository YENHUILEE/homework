{
 "cells": [
  {
   "cell_type": "markdown",
   "id": "43050c43-2a64-45a0-9ffb-bf5ed4af8815",
   "metadata": {},
   "source": [
    "# Data Science Tools and Ecosystem"
   ]
  },
  {
   "cell_type": "markdown",
   "id": "cf1933f3-484d-428c-8188-68d1ff2e1fdf",
   "metadata": {},
   "source": [
    "In this notebook, Data Science Tools and Ecosystem are summarized."
   ]
  },
  {
   "cell_type": "markdown",
   "id": "3dd0b515-8d9d-4b15-a8cd-048fb3cb4356",
   "metadata": {
    "tags": []
   },
   "source": [
    "Some of the popular languages that Data Scientists use are: \n",
    "1. R \n",
    "2. Python \n",
    "3. Julia"
   ]
  },
  {
   "cell_type": "markdown",
   "id": "2512f674-359b-4881-b020-52ea04e37a55",
   "metadata": {},
   "source": [
    "Some of the commonly used libraries used by Data Scientists include:\n",
    "1. numpy\n",
    "2. pandas\n",
    "3. matplotlib"
   ]
  },
  {
   "cell_type": "markdown",
   "id": "e1c075d3-ff15-44a1-a166-79c487a1de2b",
   "metadata": {},
   "source": [
    "## Data Science Tools\n",
    "| Name | Example | \n",
    "|:--------:|:--------:|\n",
    "|  Data Management   |  Relational Databases, NoSQL Databases, and Big Data platforms   |\n",
    "|  Data Integration and Transformation   |  Apache Airflow and Apache Kafka   |\n",
    "|  Data Visualization Tools   |  Cognos Analytics, Tableau and PowerBI   |\n",
    "|  Code Asset Management Tools   |  GitHub  |\n",
    "|  Development Environments   |  Jupyter notebook, Rstudio, VS code   |\n"
   ]
  },
  {
   "cell_type": "markdown",
   "id": "e28d9513-cb45-42b5-9013-b9b1d34f40af",
   "metadata": {},
   "source": [
    "### Below are a few examples of evaluating arithmetic expressions in Python."
   ]
  },
  {
   "cell_type": "code",
   "execution_count": 4,
   "id": "9639804c-84c6-470b-80ff-207d4061a49d",
   "metadata": {
    "tags": []
   },
   "outputs": [
    {
     "data": {
      "text/plain": [
       "17"
      ]
     },
     "execution_count": 4,
     "metadata": {},
     "output_type": "execute_result"
    }
   ],
   "source": [
    "# This a simple arithmetic expression to mutiply then add integers\n",
    "(3*4)+5"
   ]
  },
  {
   "cell_type": "code",
   "execution_count": 5,
   "id": "ed296967-3a7f-4094-a55a-8ecc74cb80a0",
   "metadata": {
    "tags": []
   },
   "outputs": [
    {
     "data": {
      "text/plain": [
       "3.3333333333333335"
      ]
     },
     "execution_count": 5,
     "metadata": {},
     "output_type": "execute_result"
    }
   ],
   "source": [
    "#  This will convert 200 minutes to hours by diving by 60\n",
    "200/60"
   ]
  },
  {
   "cell_type": "markdown",
   "id": "40cee8a2-f84a-4584-ad76-3bb292376495",
   "metadata": {},
   "source": [
    "**Objectives**:\n",
    "1. List popular languages for Data Science\n",
    "2. List popular libraries for Data Science\n",
    "3. List popular tools for Data Science\n",
    "    "
   ]
  },
  {
   "cell_type": "markdown",
   "id": "710c9c3f-ef3e-4bfa-a3c4-61843d060e7b",
   "metadata": {},
   "source": [
    "## Author\n",
    "Yen-Hui Lee"
   ]
  }
 ],
 "metadata": {
  "kernelspec": {
   "display_name": "Python 3 (ipykernel)",
   "language": "python",
   "name": "python3"
  },
  "language_info": {
   "codemirror_mode": {
    "name": "ipython",
    "version": 3
   },
   "file_extension": ".py",
   "mimetype": "text/x-python",
   "name": "python",
   "nbconvert_exporter": "python",
   "pygments_lexer": "ipython3",
   "version": "3.11.3"
  }
 },
 "nbformat": 4,
 "nbformat_minor": 5
}
